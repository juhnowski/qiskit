{
 "cells": [
  {
   "cell_type": "markdown",
   "metadata": {},
   "source": [
    "# Моделирование квантового компьютера\n",
    "\n",
    "# Квантовые вычисления\n",
    "\n",
    "## Базовые арифметические операторы"
   ]
  },
  {
   "cell_type": "code",
   "execution_count": 1,
   "metadata": {},
   "outputs": [
    {
     "data": {
      "text/plain": [
       "15"
      ]
     },
     "execution_count": 1,
     "metadata": {},
     "output_type": "execute_result"
    }
   ],
   "source": [
    "3*5"
   ]
  },
  {
   "cell_type": "code",
   "execution_count": 2,
   "metadata": {},
   "outputs": [
    {
     "data": {
      "text/plain": [
       "2.0"
      ]
     },
     "execution_count": 2,
     "metadata": {},
     "output_type": "execute_result"
    }
   ],
   "source": [
    "8/4"
   ]
  },
  {
   "cell_type": "markdown",
   "metadata": {},
   "source": [
    "### Комплексные числа\n",
    "Комплексное число всегда c = a + bj"
   ]
  },
  {
   "cell_type": "code",
   "execution_count": 2,
   "metadata": {},
   "outputs": [],
   "source": [
    "import numpy as np"
   ]
  },
  {
   "cell_type": "code",
   "execution_count": 3,
   "metadata": {},
   "outputs": [
    {
     "data": {
      "text/plain": [
       "(-1+0j)"
      ]
     },
     "execution_count": 3,
     "metadata": {},
     "output_type": "execute_result"
    }
   ],
   "source": [
    "1j*1j "
   ]
  },
  {
   "cell_type": "code",
   "execution_count": 4,
   "metadata": {},
   "outputs": [],
   "source": [
    "z=4+8j"
   ]
  },
  {
   "cell_type": "code",
   "execution_count": 5,
   "metadata": {},
   "outputs": [],
   "source": [
    "w=5-6j"
   ]
  },
  {
   "cell_type": "code",
   "execution_count": 6,
   "metadata": {},
   "outputs": [
    {
     "name": "stdout",
     "output_type": "stream",
     "text": [
      "Real of Z: 4.0\n"
     ]
    }
   ],
   "source": [
    "print(\"Real of Z:\", np.real(z))"
   ]
  },
  {
   "cell_type": "code",
   "execution_count": 7,
   "metadata": {},
   "outputs": [
    {
     "name": "stdout",
     "output_type": "stream",
     "text": [
      "Imag of Z: 8.0\n"
     ]
    }
   ],
   "source": [
    "print(\"Imag of Z:\", np.imag(z))"
   ]
  },
  {
   "cell_type": "code",
   "execution_count": 8,
   "metadata": {},
   "outputs": [
    {
     "data": {
      "text/plain": [
       "(9+2j)"
      ]
     },
     "execution_count": 8,
     "metadata": {},
     "output_type": "execute_result"
    }
   ],
   "source": [
    "z+w"
   ]
  },
  {
   "cell_type": "markdown",
   "metadata": {},
   "source": [
    "### Комплексное сопряжение"
   ]
  },
  {
   "cell_type": "code",
   "execution_count": 9,
   "metadata": {},
   "outputs": [
    {
     "data": {
      "text/plain": [
       "(5+6j)"
      ]
     },
     "execution_count": 9,
     "metadata": {},
     "output_type": "execute_result"
    }
   ],
   "source": [
    "np.conj(w)"
   ]
  },
  {
   "cell_type": "code",
   "execution_count": 10,
   "metadata": {},
   "outputs": [
    {
     "data": {
      "text/plain": [
       "(4-8j)"
      ]
     },
     "execution_count": 10,
     "metadata": {},
     "output_type": "execute_result"
    }
   ],
   "source": [
    "np.conj(z)"
   ]
  },
  {
   "cell_type": "markdown",
   "metadata": {},
   "source": [
    "### Норма/Модуль/Абсолютное значение"
   ]
  },
  {
   "cell_type": "code",
   "execution_count": 11,
   "metadata": {},
   "outputs": [
    {
     "data": {
      "text/plain": [
       "8.94427190999916"
      ]
     },
     "execution_count": 11,
     "metadata": {},
     "output_type": "execute_result"
    }
   ],
   "source": [
    "np.abs(z)"
   ]
  },
  {
   "cell_type": "code",
   "execution_count": 12,
   "metadata": {},
   "outputs": [
    {
     "data": {
      "text/plain": [
       "7.810249675906654"
      ]
     },
     "execution_count": 12,
     "metadata": {},
     "output_type": "execute_result"
    }
   ],
   "source": [
    "np.abs(w)"
   ]
  },
  {
   "cell_type": "markdown",
   "metadata": {},
   "source": [
    "### Строки и колонки"
   ]
  },
  {
   "cell_type": "code",
   "execution_count": 13,
   "metadata": {},
   "outputs": [],
   "source": [
    "row_vec = np.array([1, 2+2j,3])"
   ]
  },
  {
   "cell_type": "code",
   "execution_count": 14,
   "metadata": {},
   "outputs": [
    {
     "data": {
      "text/plain": [
       "array([1.+0.j, 2.+2.j, 3.+0.j])"
      ]
     },
     "execution_count": 14,
     "metadata": {},
     "output_type": "execute_result"
    }
   ],
   "source": [
    "row_vec"
   ]
  },
  {
   "cell_type": "code",
   "execution_count": 15,
   "metadata": {},
   "outputs": [],
   "source": [
    "col_vec = np.array([[1],[2+2j],[3]])"
   ]
  },
  {
   "cell_type": "code",
   "execution_count": 16,
   "metadata": {},
   "outputs": [
    {
     "data": {
      "text/plain": [
       "array([[1.+0.j],\n",
       "       [2.+2.j],\n",
       "       [3.+0.j]])"
      ]
     },
     "execution_count": 16,
     "metadata": {},
     "output_type": "execute_result"
    }
   ],
   "source": [
    "col_vec"
   ]
  },
  {
   "cell_type": "markdown",
   "metadata": {},
   "source": [
    "Строки в квантовой механике соответствую <A|\n",
    "Колонки соответствуют |B>"
   ]
  },
  {
   "cell_type": "markdown",
   "metadata": {},
   "source": [
    "### Скалярное произведение двух векторов"
   ]
  },
  {
   "cell_type": "code",
   "execution_count": 17,
   "metadata": {},
   "outputs": [],
   "source": [
    "A = np.array([[1],[4-5j],[5],[-3]])"
   ]
  },
  {
   "cell_type": "code",
   "execution_count": 18,
   "metadata": {
    "scrolled": true
   },
   "outputs": [
    {
     "data": {
      "text/plain": [
       "array([[ 1.+0.j],\n",
       "       [ 4.-5.j],\n",
       "       [ 5.+0.j],\n",
       "       [-3.+0.j]])"
      ]
     },
     "execution_count": 18,
     "metadata": {},
     "output_type": "execute_result"
    }
   ],
   "source": [
    "A"
   ]
  },
  {
   "cell_type": "code",
   "execution_count": 19,
   "metadata": {},
   "outputs": [],
   "source": [
    "B = np.array([1, 5, -4j, -1j])"
   ]
  },
  {
   "cell_type": "code",
   "execution_count": 20,
   "metadata": {},
   "outputs": [
    {
     "data": {
      "text/plain": [
       "array([ 1.+0.j,  5.+0.j, -0.-4.j, -0.-1.j])"
      ]
     },
     "execution_count": 20,
     "metadata": {},
     "output_type": "execute_result"
    }
   ],
   "source": [
    "B"
   ]
  },
  {
   "cell_type": "markdown",
   "metadata": {},
   "source": [
    "<B|A> будет:"
   ]
  },
  {
   "cell_type": "code",
   "execution_count": 21,
   "metadata": {},
   "outputs": [
    {
     "data": {
      "text/plain": [
       "array([21.-42.j])"
      ]
     },
     "execution_count": 21,
     "metadata": {},
     "output_type": "execute_result"
    }
   ],
   "source": [
    "np.dot(B,A)"
   ]
  },
  {
   "cell_type": "markdown",
   "metadata": {},
   "source": [
    "### Матрицы"
   ]
  },
  {
   "cell_type": "code",
   "execution_count": 22,
   "metadata": {},
   "outputs": [],
   "source": [
    "M=np.array([[2-1j, -3],[-5j, 2]])"
   ]
  },
  {
   "cell_type": "code",
   "execution_count": 23,
   "metadata": {},
   "outputs": [
    {
     "data": {
      "text/plain": [
       "array([[ 2.-1.j, -3.+0.j],\n",
       "       [-0.-5.j,  2.+0.j]])"
      ]
     },
     "execution_count": 23,
     "metadata": {},
     "output_type": "execute_result"
    }
   ],
   "source": [
    "M"
   ]
  },
  {
   "cell_type": "code",
   "execution_count": 24,
   "metadata": {},
   "outputs": [],
   "source": [
    "M=np.matrix([[2-1j, -3],[-5j, 2]])"
   ]
  },
  {
   "cell_type": "code",
   "execution_count": 25,
   "metadata": {},
   "outputs": [
    {
     "data": {
      "text/plain": [
       "matrix([[ 2.-1.j, -3.+0.j],\n",
       "        [-0.-5.j,  2.+0.j]])"
      ]
     },
     "execution_count": 25,
     "metadata": {},
     "output_type": "execute_result"
    }
   ],
   "source": [
    "M"
   ]
  },
  {
   "cell_type": "markdown",
   "metadata": {},
   "source": [
    "### Эрмитово сопряжение "
   ]
  },
  {
   "cell_type": "code",
   "execution_count": 26,
   "metadata": {},
   "outputs": [
    {
     "data": {
      "text/plain": [
       "matrix([[ 2.+1.j, -0.+5.j],\n",
       "        [-3.-0.j,  2.-0.j]])"
      ]
     },
     "execution_count": 26,
     "metadata": {},
     "output_type": "execute_result"
    }
   ],
   "source": [
    "M.H"
   ]
  },
  {
   "cell_type": "markdown",
   "metadata": {},
   "source": [
    "### Тензорное произведение"
   ]
  },
  {
   "cell_type": "code",
   "execution_count": 27,
   "metadata": {},
   "outputs": [
    {
     "data": {
      "text/plain": [
       "matrix([[  3. -4.j,  -6. +3.j,  -6. +3.j,   9. -0.j],\n",
       "        [ -5.-10.j,   4. -2.j,   0.+15.j,  -6. +0.j],\n",
       "        [ -5.-10.j,   0.+15.j,   4. -2.j,  -6. +0.j],\n",
       "        [-25. +0.j,   0.-10.j,   0.-10.j,   4. +0.j]])"
      ]
     },
     "execution_count": 27,
     "metadata": {},
     "output_type": "execute_result"
    }
   ],
   "source": [
    "np.kron(M,M)"
   ]
  },
  {
   "cell_type": "markdown",
   "metadata": {},
   "source": [
    "## Кубиты, Сфера Блоха\n",
    "pip install qiskit"
   ]
  },
  {
   "cell_type": "code",
   "execution_count": 2,
   "metadata": {},
   "outputs": [],
   "source": [
    "import qiskit"
   ]
  },
  {
   "cell_type": "code",
   "execution_count": 3,
   "metadata": {},
   "outputs": [
    {
     "data": {
      "text/plain": [
       "{'qiskit-terra': '0.15.2',\n",
       " 'qiskit-aer': '0.6.1',\n",
       " 'qiskit-ignis': '0.4.0',\n",
       " 'qiskit-ibmq-provider': '0.9.0',\n",
       " 'qiskit-aqua': '0.7.5',\n",
       " 'qiskit': '0.21.0'}"
      ]
     },
     "execution_count": 3,
     "metadata": {},
     "output_type": "execute_result"
    }
   ],
   "source": [
    "qiskit.__qiskit_version__"
   ]
  },
  {
   "cell_type": "code",
   "execution_count": 4,
   "metadata": {},
   "outputs": [
    {
     "data": {
      "image/png": "[encoded data removed]",
      "text/plain": [
       "<Figure size 360x360 with 1 Axes>"
      ]
     },
     "execution_count": 4,
     "metadata": {},
     "output_type": "execute_result"
    }
   ],
   "source": [
    "from qiskit import *\n",
    "from qiskit.visualization import plot_bloch_vector\n",
    "plot_bloch_vector([0,0,1], title = 'Спин вверх')"
   ]
  },
  {
   "cell_type": "code",
   "execution_count": 31,
   "metadata": {},
   "outputs": [
    {
     "data": {
      "image/png": "[encoded data removed]",
      "text/plain": [
       "<Figure size 360x360 with 1 Axes>"
      ]
     },
     "execution_count": 31,
     "metadata": {},
     "output_type": "execute_result"
    }
   ],
   "source": [
    "plot_bloch_vector([1,0,0])"
   ]
  },
  {
   "cell_type": "markdown",
   "metadata": {},
   "source": [
    "## Базисные состояния"
   ]
  },
  {
   "cell_type": "code",
   "execution_count": 32,
   "metadata": {},
   "outputs": [],
   "source": [
    "ket_zero = np.array([[1],[0]])\n",
    "ket_one = np.array([[0],[1]])"
   ]
  },
  {
   "cell_type": "code",
   "execution_count": 33,
   "metadata": {},
   "outputs": [
    {
     "data": {
      "text/plain": [
       "array([[1],\n",
       "       [0],\n",
       "       [0],\n",
       "       [0]])"
      ]
     },
     "execution_count": 33,
     "metadata": {},
     "output_type": "execute_result"
    }
   ],
   "source": [
    "np.kron(ket_zero, ket_zero)"
   ]
  },
  {
   "cell_type": "code",
   "execution_count": 34,
   "metadata": {},
   "outputs": [
    {
     "data": {
      "text/plain": [
       "array([[0],\n",
       "       [1],\n",
       "       [0],\n",
       "       [0]])"
      ]
     },
     "execution_count": 34,
     "metadata": {},
     "output_type": "execute_result"
    }
   ],
   "source": [
    "np.kron(ket_zero, ket_one)"
   ]
  },
  {
   "cell_type": "code",
   "execution_count": 35,
   "metadata": {},
   "outputs": [
    {
     "data": {
      "text/plain": [
       "array([[0],\n",
       "       [0],\n",
       "       [1],\n",
       "       [0]])"
      ]
     },
     "execution_count": 35,
     "metadata": {},
     "output_type": "execute_result"
    }
   ],
   "source": [
    "np.kron(ket_one, ket_zero)"
   ]
  },
  {
   "cell_type": "code",
   "execution_count": 36,
   "metadata": {},
   "outputs": [
    {
     "data": {
      "text/plain": [
       "array([[0],\n",
       "       [0],\n",
       "       [0],\n",
       "       [1]])"
      ]
     },
     "execution_count": 36,
     "metadata": {},
     "output_type": "execute_result"
    }
   ],
   "source": [
    "np.kron(ket_one, ket_one)"
   ]
  },
  {
   "cell_type": "markdown",
   "metadata": {},
   "source": [
    "## Квантовые операторы"
   ]
  },
  {
   "cell_type": "markdown",
   "metadata": {},
   "source": [
    "### X на |0>"
   ]
  },
  {
   "cell_type": "code",
   "execution_count": 6,
   "metadata": {},
   "outputs": [
    {
     "data": {
      "image/png": "[encoded data removed]",
      "text/plain": [
       "<Figure size 187.706x84.28 with 1 Axes>"
      ]
     },
     "execution_count": 6,
     "metadata": {},
     "output_type": "execute_result"
    }
   ],
   "source": [
    "qc = QuantumCircuit(1)\n",
    "qc.x(0)\n",
    "qc.draw('mpl')"
   ]
  },
  {
   "cell_type": "code",
   "execution_count": 7,
   "metadata": {},
   "outputs": [
    {
     "name": "stdout",
     "output_type": "stream",
     "text": [
      "[0.+0.j 1.+0.j]\n"
     ]
    }
   ],
   "source": [
    "backend = Aer.get_backend('statevector_simulator')\n",
    "out = execute(qc, backend).result().get_statevector()\n",
    "print(out)"
   ]
  },
  {
   "cell_type": "markdown",
   "metadata": {},
   "source": [
    "## Z and Y операторы"
   ]
  },
  {
   "cell_type": "code",
   "execution_count": 8,
   "metadata": {},
   "outputs": [
    {
     "data": {
      "image/png": "[encoded data removed]",
      "text/plain": [
       "<Figure size 308.106x84.28 with 1 Axes>"
      ]
     },
     "execution_count": 8,
     "metadata": {},
     "output_type": "execute_result"
    }
   ],
   "source": [
    "qc.y(0)\n",
    "qc.z(0)\n",
    "qc.draw('mpl')"
   ]
  },
  {
   "cell_type": "markdown",
   "metadata": {},
   "source": [
    "## Оператор Адамара"
   ]
  },
  {
   "cell_type": "code",
   "execution_count": 9,
   "metadata": {},
   "outputs": [
    {
     "data": {
      "image/png": "[encoded data removed]",
      "text/plain": [
       "<Figure size 200.977x204.68 with 1 Axes>"
      ]
     },
     "execution_count": 9,
     "metadata": {},
     "output_type": "execute_result"
    }
   ],
   "source": [
    "qc = QuantumCircuit(3)\n",
    "for qubit in range(3):\n",
    "    qc.h(qubit)\n",
    "qc.draw('mpl')"
   ]
  },
  {
   "cell_type": "markdown",
   "metadata": {},
   "source": [
    "## Единичный оператор"
   ]
  },
  {
   "cell_type": "code",
   "execution_count": 10,
   "metadata": {},
   "outputs": [
    {
     "data": {
      "image/png": "[encoded data removed]",
      "text/plain": [
       "<Figure size 261.177x204.68 with 1 Axes>"
      ]
     },
     "execution_count": 10,
     "metadata": {},
     "output_type": "execute_result"
    }
   ],
   "source": [
    "qc.i(0)\n",
    "qc.draw('mpl')"
   ]
  },
  {
   "cell_type": "markdown",
   "metadata": {},
   "source": [
    "## S - Оператор"
   ]
  },
  {
   "cell_type": "code",
   "execution_count": 11,
   "metadata": {},
   "outputs": [
    {
     "data": {
      "image/png": "[encoded data removed]",
      "text/plain": [
       "<Figure size 261.177x204.68 with 1 Axes>"
      ]
     },
     "execution_count": 11,
     "metadata": {},
     "output_type": "execute_result"
    }
   ],
   "source": [
    "qc.s(1)\n",
    "qc.draw('mpl')"
   ]
  },
  {
   "cell_type": "markdown",
   "metadata": {},
   "source": [
    "## T - Оператор"
   ]
  },
  {
   "cell_type": "code",
   "execution_count": 13,
   "metadata": {},
   "outputs": [
    {
     "data": {
      "image/png": "[encoded data removed]",
      "text/plain": [
       "<Figure size 321.377x204.68 with 1 Axes>"
      ]
     },
     "execution_count": 13,
     "metadata": {},
     "output_type": "execute_result"
    }
   ],
   "source": [
    "qc.t(2)\n",
    "qc.draw('mpl')"
   ]
  },
  {
   "cell_type": "markdown",
   "metadata": {},
   "source": [
    "## U - Оператор\n",
    "..."
   ]
  },
  {
   "cell_type": "markdown",
   "metadata": {},
   "source": [
    "## C-Not Оператор"
   ]
  },
  {
   "cell_type": "code",
   "execution_count": 17,
   "metadata": {},
   "outputs": [
    {
     "data": {
      "image/png": "[encoded data removed]",
      "text/plain": [
       "<Figure size 200.832x144.48 with 1 Axes>"
      ]
     },
     "execution_count": 17,
     "metadata": {},
     "output_type": "execute_result"
    }
   ],
   "source": [
    "qc = QuantumCircuit(2)\n",
    "qc.cx(0,1)\n",
    "qc.draw('mpl')"
   ]
  },
  {
   "cell_type": "markdown",
   "metadata": {},
   "source": [
    "## Запутанность"
   ]
  },
  {
   "cell_type": "code",
   "execution_count": 18,
   "metadata": {},
   "outputs": [
    {
     "data": {
      "image/png": "[encoded data removed]",
      "text/plain": [
       "<Figure size 261.032x144.48 with 1 Axes>"
      ]
     },
     "execution_count": 18,
     "metadata": {},
     "output_type": "execute_result"
    }
   ],
   "source": [
    "qc = QuantumCircuit(2)\n",
    "qc.h(0)\n",
    "qc.cx(0,1)\n",
    "qc.draw('mpl')"
   ]
  },
  {
   "cell_type": "code",
   "execution_count": 19,
   "metadata": {},
   "outputs": [
    {
     "name": "stdout",
     "output_type": "stream",
     "text": [
      "[0.70710678+0.j 0.        +0.j 0.        +0.j 0.70710678+0.j]\n"
     ]
    }
   ],
   "source": [
    "final_state = execute(qc,backend).result().get_statevector()\n",
    "print(final_state)"
   ]
  },
  {
   "cell_type": "markdown",
   "metadata": {},
   "source": [
    "## Берштейн-Вазирани Алгоритм"
   ]
  },
  {
   "cell_type": "code",
   "execution_count": null,
   "metadata": {},
   "outputs": [],
   "source": [
    "s = 101011"
   ]
  },
  {
   "cell_type": "code",
   "execution_count": 20,
   "metadata": {},
   "outputs": [
    {
     "data": {
      "image/png": "[encoded data removed]",
      "text/plain": [
       "<Figure size 200.977x505.68 with 1 Axes>"
      ]
     },
     "execution_count": 20,
     "metadata": {},
     "output_type": "execute_result"
    }
   ],
   "source": [
    "qc = QuantumCircuit(6+1, 6)\n",
    "qc.h([0,1,2,3,4,5])\n",
    "qc.draw('mpl')"
   ]
  },
  {
   "cell_type": "code",
   "execution_count": 21,
   "metadata": {},
   "outputs": [
    {
     "data": {
      "image/png": "[encoded data removed]",
      "text/plain": [
       "<Figure size 321.377x505.68 with 1 Axes>"
      ]
     },
     "execution_count": 21,
     "metadata": {},
     "output_type": "execute_result"
    }
   ],
   "source": [
    "qc.x(6)\n",
    "qc.h(6)\n",
    "qc.barrier()\n",
    "qc.draw('mpl')"
   ]
  },
  {
   "cell_type": "code",
   "execution_count": 22,
   "metadata": {},
   "outputs": [
    {
     "data": {
      "image/png": "[encoded data removed]",
      "text/plain": [
       "<Figure size 1043.78x505.68 with 1 Axes>"
      ]
     },
     "execution_count": 22,
     "metadata": {},
     "output_type": "execute_result"
    }
   ],
   "source": [
    "qc.cx(5,6)\n",
    "qc.cx(3,6)\n",
    "qc.cx(1,6)\n",
    "qc.cx(0,6)\n",
    "qc.barrier()\n",
    "qc.h([0,1,2,3,4,5])\n",
    "qc.measure([0,1,2,3,4,5],[0,1,2,3,4,5])\n",
    "qc.draw('mpl')"
   ]
  },
  {
   "cell_type": "code",
   "execution_count": 24,
   "metadata": {},
   "outputs": [
    {
     "name": "stdout",
     "output_type": "stream",
     "text": [
      "{'101011': 1}\n"
     ]
    }
   ],
   "source": [
    "simulator= Aer.get_backend('qasm_simulator')\n",
    "result = execute(qc,backend=simulator, shots = 1).result()\n",
    "counts=result.get_counts()\n",
    "print(counts)"
   ]
  },
  {
   "cell_type": "code",
   "execution_count": 27,
   "metadata": {},
   "outputs": [
    {
     "data": {
      "image/png": "[encoded data removed]",
      "text/plain": [
       "<Figure size 432x288 with 2 Axes>"
      ]
     },
     "metadata": {
      "needs_background": "light"
     },
     "output_type": "display_data"
    }
   ],
   "source": [
    "\"\"\"\n",
    "General Numerical Solver for the 1D Time-Dependent Schrodinger's equation.\n",
    "\n",
    "author: Jake Vanderplas\n",
    "email: vanderplas@astro.washington.edu\n",
    "website: http://jakevdp.github.com\n",
    "license: BSD\n",
    "Please feel free to use and modify this, but keep the above information. Thanks!\n",
    "\"\"\"\n",
    "\n",
    "import numpy as np\n",
    "from matplotlib import pyplot as pl\n",
    "from matplotlib import animation\n",
    "from scipy.fftpack import fft,ifft\n",
    "\n",
    "\n",
    "class Schrodinger(object):\n",
    "    \"\"\"\n",
    "    Class which implements a numerical solution of the time-dependent\n",
    "    Schrodinger equation for an arbitrary potential\n",
    "    \"\"\"\n",
    "    def __init__(self, x, psi_x0, V_x,\n",
    "                 k0 = None, hbar=1, m=1, t0=0.0):\n",
    "        \"\"\"\n",
    "        Parameters\n",
    "        ----------\n",
    "        x : array_like, float\n",
    "            length-N array of evenly spaced spatial coordinates\n",
    "        psi_x0 : array_like, complex\n",
    "            length-N array of the initial wave function at time t0\n",
    "        V_x : array_like, float\n",
    "             length-N array giving the potential at each x\n",
    "        k0 : float\n",
    "            the minimum value of k.  Note that, because of the workings of the\n",
    "            fast fourier transform, the momentum wave-number will be defined\n",
    "            in the range\n",
    "              k0 < k < 2*pi / dx\n",
    "            where dx = x[1]-x[0].  If you expect nonzero momentum outside this\n",
    "            range, you must modify the inputs accordingly.  If not specified,\n",
    "            k0 will be calculated such that the range is [-k0,k0]\n",
    "        hbar : float\n",
    "            value of planck's constant (default = 1)\n",
    "        m : float\n",
    "            particle mass (default = 1)\n",
    "        t0 : float\n",
    "            initial tile (default = 0)\n",
    "        \"\"\"\n",
    "        # Validation of array inputs\n",
    "        self.x, psi_x0, self.V_x = map(np.asarray, (x, psi_x0, V_x))\n",
    "        N = self.x.size\n",
    "        assert self.x.shape == (N,)\n",
    "        assert psi_x0.shape == (N,)\n",
    "        assert self.V_x.shape == (N,)\n",
    "\n",
    "        # Set internal parameters\n",
    "        self.hbar = hbar\n",
    "        self.m = m\n",
    "        self.t = t0\n",
    "        self.dt_ = None\n",
    "        self.N = len(x)\n",
    "        self.dx = self.x[1] - self.x[0]\n",
    "        self.dk = 2 * np.pi / (self.N * self.dx)\n",
    "\n",
    "        # set momentum scale\n",
    "        if k0 == None:\n",
    "            self.k0 = -0.5 * self.N * self.dk\n",
    "        else:\n",
    "            self.k0 = k0\n",
    "        self.k = self.k0 + self.dk * np.arange(self.N)\n",
    "\n",
    "        self.psi_x = psi_x0\n",
    "        self.compute_k_from_x()\n",
    "\n",
    "        # variables which hold steps in evolution of the\n",
    "        self.x_evolve_half = None\n",
    "        self.x_evolve = None\n",
    "        self.k_evolve = None\n",
    "\n",
    "        # attributes used for dynamic plotting\n",
    "        self.psi_x_line = None\n",
    "        self.psi_k_line = None\n",
    "        self.V_x_line = None\n",
    "\n",
    "    def _set_psi_x(self, psi_x):\n",
    "        self.psi_mod_x = (psi_x * np.exp(-1j * self.k[0] * self.x)\n",
    "                          * self.dx / np.sqrt(2 * np.pi))\n",
    "\n",
    "    def _get_psi_x(self):\n",
    "        return (self.psi_mod_x * np.exp(1j * self.k[0] * self.x)\n",
    "                * np.sqrt(2 * np.pi) / self.dx)\n",
    "\n",
    "    def _set_psi_k(self, psi_k):\n",
    "        self.psi_mod_k = psi_k * np.exp(1j * self.x[0]\n",
    "                                        * self.dk * np.arange(self.N))\n",
    "\n",
    "    def _get_psi_k(self):\n",
    "        return self.psi_mod_k * np.exp(-1j * self.x[0] * \n",
    "                                        self.dk * np.arange(self.N))\n",
    "    \n",
    "    def _get_dt(self):\n",
    "        return self.dt_\n",
    "\n",
    "    def _set_dt(self, dt):\n",
    "        if dt != self.dt_:\n",
    "            self.dt_ = dt\n",
    "            self.x_evolve_half = np.exp(-0.5 * 1j * self.V_x\n",
    "                                         / self.hbar * dt )\n",
    "            self.x_evolve = self.x_evolve_half * self.x_evolve_half\n",
    "            self.k_evolve = np.exp(-0.5 * 1j * self.hbar /\n",
    "                                    self.m * (self.k * self.k) * dt)\n",
    "    \n",
    "    psi_x = property(_get_psi_x, _set_psi_x)\n",
    "    psi_k = property(_get_psi_k, _set_psi_k)\n",
    "    dt = property(_get_dt, _set_dt)\n",
    "\n",
    "    def compute_k_from_x(self):\n",
    "        self.psi_mod_k = fft(self.psi_mod_x)\n",
    "\n",
    "    def compute_x_from_k(self):\n",
    "        self.psi_mod_x = ifft(self.psi_mod_k)\n",
    "\n",
    "    def time_step(self, dt, Nsteps = 1):\n",
    "        \"\"\"\n",
    "        Perform a series of time-steps via the time-dependent\n",
    "        Schrodinger Equation.\n",
    "\n",
    "        Parameters\n",
    "        ----------\n",
    "        dt : float\n",
    "            the small time interval over which to integrate\n",
    "        Nsteps : float, optional\n",
    "            the number of intervals to compute.  The total change\n",
    "            in time at the end of this method will be dt * Nsteps.\n",
    "            default is N = 1\n",
    "        \"\"\"\n",
    "        self.dt = dt\n",
    "\n",
    "        if Nsteps > 0:\n",
    "            self.psi_mod_x *= self.x_evolve_half\n",
    "\n",
    "        for i in range(Nsteps - 1):\n",
    "            self.compute_k_from_x()\n",
    "            self.psi_mod_k *= self.k_evolve\n",
    "            self.compute_x_from_k()\n",
    "            self.psi_mod_x *= self.x_evolve\n",
    "\n",
    "        self.compute_k_from_x()\n",
    "        self.psi_mod_k *= self.k_evolve\n",
    "\n",
    "        self.compute_x_from_k()\n",
    "        self.psi_mod_x *= self.x_evolve_half\n",
    "\n",
    "        self.compute_k_from_x()\n",
    "\n",
    "        self.t += dt * Nsteps\n",
    "\n",
    "\n",
    "######################################################################\n",
    "# Helper functions for gaussian wave-packets\n",
    "\n",
    "def gauss_x(x, a, x0, k0):\n",
    "    \"\"\"\n",
    "    a gaussian wave packet of width a, centered at x0, with momentum k0\n",
    "    \"\"\" \n",
    "    return ((a * np.sqrt(np.pi)) ** (-0.5)\n",
    "            * np.exp(-0.5 * ((x - x0) * 1. / a) ** 2 + 1j * x * k0))\n",
    "\n",
    "def gauss_k(k,a,x0,k0):\n",
    "    \"\"\"\n",
    "    analytical fourier transform of gauss_x(x), above\n",
    "    \"\"\"\n",
    "    return ((a / np.sqrt(np.pi))**0.5\n",
    "            * np.exp(-0.5 * (a * (k - k0)) ** 2 - 1j * (k - k0) * x0))\n",
    "\n",
    "\n",
    "######################################################################\n",
    "# Utility functions for running the animation\n",
    "\n",
    "def theta(x):\n",
    "    \"\"\"\n",
    "    theta function :\n",
    "      returns 0 if x<=0, and 1 if x>0\n",
    "    \"\"\"\n",
    "    x = np.asarray(x)\n",
    "    y = np.zeros(x.shape)\n",
    "    y[x > 0] = 1.0\n",
    "    return y\n",
    "\n",
    "def square_barrier(x, width, height):\n",
    "    return height * (theta(x) - theta(x - width))\n",
    "\n",
    "######################################################################\n",
    "# Create the animation\n",
    "\n",
    "# specify time steps and duration\n",
    "dt = 0.01\n",
    "N_steps = 50\n",
    "t_max = 120\n",
    "frames = int(t_max / float(N_steps * dt))\n",
    "\n",
    "# specify constants\n",
    "hbar = 1.0   # planck's constant\n",
    "m = 1.9      # particle mass\n",
    "\n",
    "# specify range in x coordinate\n",
    "N = 2 ** 11\n",
    "dx = 0.1\n",
    "x = dx * (np.arange(N) - 0.5 * N)\n",
    "\n",
    "# specify potential\n",
    "V0 = 1.5\n",
    "L = hbar / np.sqrt(2 * m * V0)\n",
    "a = 3 * L\n",
    "x0 = -60 * L\n",
    "V_x = square_barrier(x, a, V0)\n",
    "V_x[x < -98] = 1E6\n",
    "V_x[x > 98] = 1E6\n",
    "\n",
    "# specify initial momentum and quantities derived from it\n",
    "p0 = np.sqrt(2 * m * 0.2 * V0)\n",
    "dp2 = p0 * p0 * 1./80\n",
    "d = hbar / np.sqrt(2 * dp2)\n",
    "\n",
    "k0 = p0 / hbar\n",
    "v0 = p0 / m\n",
    "psi_x0 = gauss_x(x, d, x0, k0)\n",
    "\n",
    "# define the Schrodinger object which performs the calculations\n",
    "S = Schrodinger(x=x,\n",
    "                psi_x0=psi_x0,\n",
    "                V_x=V_x,\n",
    "                hbar=hbar,\n",
    "                m=m,\n",
    "                k0=-28)\n",
    "\n",
    "######################################################################\n",
    "# Set up plot\n",
    "fig = pl.figure()\n",
    "\n",
    "# plotting limits\n",
    "xlim = (-100, 100)\n",
    "klim = (-5, 5)\n",
    "\n",
    "# top axes show the x-space data\n",
    "ymin = 0\n",
    "ymax = V0\n",
    "ax1 = fig.add_subplot(211, xlim=xlim,\n",
    "                      ylim=(ymin - 0.2 * (ymax - ymin),\n",
    "                            ymax + 0.2 * (ymax - ymin)))\n",
    "psi_x_line, = ax1.plot([], [], c='r', label=r'$|\\psi(x)|$')\n",
    "V_x_line, = ax1.plot([], [], c='k', label=r'$V(x)$')\n",
    "center_line = ax1.axvline(0, c='k', ls=':',\n",
    "                          label = r\"$x_0 + v_0t$\")\n",
    "\n",
    "title = ax1.set_title(\"\")\n",
    "ax1.legend(prop=dict(size=12))\n",
    "ax1.set_xlabel('$x$')\n",
    "ax1.set_ylabel(r'$|\\psi(x)|$')\n",
    "\n",
    "# bottom axes show the k-space data\n",
    "ymin = abs(S.psi_k).min()\n",
    "ymax = abs(S.psi_k).max()\n",
    "ax2 = fig.add_subplot(212, xlim=klim,\n",
    "                      ylim=(ymin - 0.2 * (ymax - ymin),\n",
    "                            ymax + 0.2 * (ymax - ymin)))\n",
    "psi_k_line, = ax2.plot([], [], c='r', label=r'$|\\psi(k)|$')\n",
    "\n",
    "p0_line1 = ax2.axvline(-p0 / hbar, c='k', ls=':', label=r'$\\pm p_0$')\n",
    "p0_line2 = ax2.axvline(p0 / hbar, c='k', ls=':')\n",
    "mV_line = ax2.axvline(np.sqrt(2 * V0) / hbar, c='k', ls='--',\n",
    "                      label=r'$\\sqrt{2mV_0}$')\n",
    "ax2.legend(prop=dict(size=12))\n",
    "ax2.set_xlabel('$k$')\n",
    "ax2.set_ylabel(r'$|\\psi(k)|$')\n",
    "\n",
    "V_x_line.set_data(S.x, S.V_x)\n",
    "\n",
    "######################################################################\n",
    "# Animate plot\n",
    "def init():\n",
    "    psi_x_line.set_data([], [])\n",
    "    V_x_line.set_data([], [])\n",
    "    center_line.set_data([], [])\n",
    "\n",
    "    psi_k_line.set_data([], [])\n",
    "    title.set_text(\"\")\n",
    "    return (psi_x_line, V_x_line, center_line, psi_k_line, title)\n",
    "\n",
    "def animate(i):\n",
    "    S.time_step(dt, N_steps)\n",
    "    psi_x_line.set_data(S.x, 4 * abs(S.psi_x))\n",
    "    V_x_line.set_data(S.x, S.V_x)\n",
    "    center_line.set_data(2 * [x0 + S.t * p0 / m], [0, 1])\n",
    "\n",
    "    psi_k_line.set_data(S.k, abs(S.psi_k))\n",
    "    title.set_text(\"t = %.2f\" % S.t)\n",
    "    return (psi_x_line, V_x_line, center_line, psi_k_line, title)\n",
    "\n",
    "# call the animator.  blit=True means only re-draw the parts that have changed.\n",
    "anim = animation.FuncAnimation(fig, animate, init_func=init,\n",
    "                               frames=frames, interval=30, blit=True)\n",
    "\n",
    "\n",
    "# uncomment the following line to save the video in mp4 format.  This\n",
    "# requires either mencoder or ffmpeg to be installed on your system\n",
    "\n",
    "#anim.save('schrodinger_barrier.mp4', fps=15, extra_args=['-vcodec', 'libx264'])\n",
    "\n",
    "pl.show()"
   ]
  },
  {
   "cell_type": "code",
   "execution_count": null,
   "metadata": {},
   "outputs": [],
   "source": []
  }
 ],
 "metadata": {
  "kernelspec": {
   "display_name": "Python 3",
   "language": "python",
   "name": "python3"
  },
  "language_info": {
   "codemirror_mode": {
    "name": "ipython",
    "version": 3
   },
   "file_extension": ".py",
   "mimetype": "text/x-python",
   "name": "python",
   "nbconvert_exporter": "python",
   "pygments_lexer": "ipython3",
   "version": "3.8.3"
  }
 },
 "nbformat": 4,
 "nbformat_minor": 4
}
